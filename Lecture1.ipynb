{
 "cells": [
  {
   "cell_type": "code",
   "execution_count": 3,
   "id": "3492cf85",
   "metadata": {},
   "outputs": [
    {
     "name": "stdout",
     "output_type": "stream",
     "text": [
      "Frotuner has started\n",
      "ok turning the Frotuner right\n",
      "ok turning the Frotuner left\n",
      "ok Applying break Frotuner\n",
      "ok engine stop Frotuner\n"
     ]
    }
   ],
   "source": [
    "\n",
    "class Car:\n",
    "    def __init__(self,make,model,year):\n",
    "        self.make = make\n",
    "        self.model = model\n",
    "        self.year =  year\n",
    "    \n",
    "    def start_engine(self):\n",
    "        print(self.model ,\"has started\")   \n",
    "    \n",
    "    def turn_right(self):\n",
    "        print(\"ok turning the\",self.model,\"right\")\n",
    "\n",
    "    def turn_left(self):\n",
    "        print(\"ok turning the\",self.model,\"left\")\n",
    "\n",
    "    def apply_break(self):\n",
    "        print(\"ok Applying break\",self.model)\n",
    "    def stop_engine(self):\n",
    "        print(\"ok engine stop\",self.model)    \n",
    "       \n",
    "                 \n",
    "\n",
    "\n",
    "\n",
    "car = Car(\"Toyota\",\"Frotuner\",2020)\n",
    "\n",
    "car.start_engine()\n",
    "car.turn_right()\n",
    "car.turn_left()\n",
    "car.apply_break()\n",
    "car.stop_engine()\n",
    "        "
   ]
  },
  {
   "cell_type": "code",
   "execution_count": 9,
   "id": "35745545",
   "metadata": {},
   "outputs": [
    {
     "name": "stdout",
     "output_type": "stream",
     "text": [
      "['_Student__age', '_Student__name', '__class__', '__delattr__', '__dict__', '__dir__', '__doc__', '__eq__', '__format__', '__ge__', '__getattribute__', '__getstate__', '__gt__', '__hash__', '__init__', '__init_subclass__', '__le__', '__lt__', '__module__', '__ne__', '__new__', '__reduce__', '__reduce_ex__', '__repr__', '__setattr__', '__sizeof__', '__str__', '__subclasshook__', '__weakref__', '_teacher']\n"
     ]
    }
   ],
   "source": [
    "class Student:\n",
    "\n",
    "    def __init__(self,name,age,teacher):\n",
    "        self.__name = name # private \n",
    "        self.__age = age  # private\n",
    "        self._teacher = teacher # protected\n",
    "\n",
    "\n",
    "s = Student(\"Alice\", 20,\"sanjeev\")\n",
    "print(dir(s))  \n"
   ]
  },
  {
   "cell_type": "code",
   "execution_count": 10,
   "id": "606df50e",
   "metadata": {},
   "outputs": [
    {
     "name": "stdout",
     "output_type": "stream",
     "text": [
      "Car constructor called\n",
      "Engine has started\n"
     ]
    }
   ],
   "source": [
    "class Car:\n",
    "    def __init__(self):\n",
    "        print(\"Car constructor called\")\n",
    "\n",
    "    def start_engine(self):\n",
    "        print(\"Engine has started\")\n",
    "\n",
    "\n",
    "class Toyota(Car):\n",
    "    def __init__(self, model):\n",
    "        super().__init__()  \n",
    "        self.model = model\n",
    "\n",
    "\n",
    "t = Toyota(\"Corolla\")  \n",
    "t.start_engine()      "
   ]
  }
 ],
 "metadata": {
  "kernelspec": {
   "display_name": "Python 3",
   "language": "python",
   "name": "python3"
  },
  "language_info": {
   "codemirror_mode": {
    "name": "ipython",
    "version": 3
   },
   "file_extension": ".py",
   "mimetype": "text/x-python",
   "name": "python",
   "nbconvert_exporter": "python",
   "pygments_lexer": "ipython3",
   "version": "3.11.11"
  }
 },
 "nbformat": 4,
 "nbformat_minor": 5
}
