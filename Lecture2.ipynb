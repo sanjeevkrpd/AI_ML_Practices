{
 "cells": [
  {
   "cell_type": "code",
   "execution_count": 4,
   "id": "5d59c15d",
   "metadata": {},
   "outputs": [
    {
     "name": "stdout",
     "output_type": "stream",
     "text": [
      "Name: Alice\n",
      "Age: 30\n",
      "Employee ID: E12345\n",
      "Employee(Name: Alice, Age: 30, ID: E12345)\n"
     ]
    }
   ],
   "source": [
    "# Base class\n",
    "class Person:\n",
    "    def __init__(self, name, age):\n",
    "        self.name = name\n",
    "        self.age = age\n",
    "\n",
    "# Derived class\n",
    "class Employee(Person):\n",
    "    def __init__(self, name, age, employee_id):\n",
    "        super().__init__(name, age)  \n",
    "        self.employee_id = employee_id\n",
    "\n",
    "    def __str__(self):\n",
    "        return f\"Employee(Name: {self.name}, Age: {self.age}, ID: {self.employee_id})\"\n",
    "\n",
    "emp = Employee(\"Alice\", 30, \"E12345\")\n",
    "\n",
    "\n",
    "print(\"Name:\", emp.name)\n",
    "print(\"Age:\", emp.age)\n",
    "print(\"Employee ID:\", emp.employee_id)\n",
    "print(emp)\n"
   ]
  },
  {
   "cell_type": "code",
   "execution_count": 7,
   "id": "f470c9f4",
   "metadata": {},
   "outputs": [
    {
     "name": "stdout",
     "output_type": "stream",
     "text": [
      "Person(Street: 123 Main St, City: New York, Zipcode: 10001)\n"
     ]
    }
   ],
   "source": [
    "class Address:\n",
    "    def __init__(self, street, city, zipcode):\n",
    "        self.street = street\n",
    "        self.city = city\n",
    "        self.zipcode = zipcode\n",
    "\n",
    "class Person(Address):\n",
    "    def __init__(self, street, city, zipcode):\n",
    "        super().__init__(street, city, zipcode)\n",
    "\n",
    "    def __str__(self):\n",
    "        return f\"Person(Street: {self.street}, City: {self.city}, Zipcode: {self.zipcode})\"\n",
    "\n",
    "p = Person(\"123 Main St\", \"New York\", \"10001\")\n",
    "print(p)\n",
    "\n"
   ]
  }
 ],
 "metadata": {
  "kernelspec": {
   "display_name": "Python 3",
   "language": "python",
   "name": "python3"
  },
  "language_info": {
   "codemirror_mode": {
    "name": "ipython",
    "version": 3
   },
   "file_extension": ".py",
   "mimetype": "text/x-python",
   "name": "python",
   "nbconvert_exporter": "python",
   "pygments_lexer": "ipython3",
   "version": "3.11.11"
  }
 },
 "nbformat": 4,
 "nbformat_minor": 5
}
