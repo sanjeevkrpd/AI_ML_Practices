{
 "cells": [
  {
   "cell_type": "code",
   "execution_count": 4,
   "id": "8122d28f",
   "metadata": {},
   "outputs": [
    {
     "name": "stdout",
     "output_type": "stream",
     "text": [
      "0\n",
      "1\n",
      "2\n",
      "3\n",
      "4\n"
     ]
    }
   ],
   "source": [
    "for i in range(5):\n",
    "    print(i)"
   ]
  },
  {
   "cell_type": "code",
   "execution_count": 5,
   "id": "12a8a5d2",
   "metadata": {},
   "outputs": [
    {
     "name": "stdout",
     "output_type": "stream",
     "text": [
      "Dog\n",
      "15\n"
     ]
    }
   ],
   "source": [
    "class Dog:\n",
    "\n",
    "    def __init__(self,name,age):\n",
    "        self.name=name\n",
    "        self.age=age\n",
    "\n",
    "\n",
    "Dog1 =Dog(\"Dog\",15)\n",
    "\n",
    "print(Dog1.name)\n",
    "print(Dog1.age)"
   ]
  },
  {
   "cell_type": "code",
   "execution_count": 2,
   "id": "2f82c83a",
   "metadata": {},
   "outputs": [
    {
     "name": "stdout",
     "output_type": "stream",
     "text": [
      "3 is a prime number\n",
      "5 is a prime number\n",
      "7 is a prime number\n",
      "11 is a prime number\n",
      "13 is a prime number\n",
      "17 is a prime number\n",
      "19 is a prime number\n",
      "23 is a prime number\n",
      "29 is a prime number\n",
      "31 is a prime number\n",
      "37 is a prime number\n",
      "41 is a prime number\n",
      "43 is a prime number\n",
      "47 is a prime number\n",
      "53 is a prime number\n",
      "59 is a prime number\n",
      "61 is a prime number\n",
      "67 is a prime number\n",
      "71 is a prime number\n",
      "73 is a prime number\n",
      "79 is a prime number\n",
      "83 is a prime number\n",
      "89 is a prime number\n",
      "97 is a prime number\n",
      "101 is a prime number\n",
      "103 is a prime number\n",
      "107 is a prime number\n",
      "109 is a prime number\n",
      "113 is a prime number\n",
      "127 is a prime number\n",
      "131 is a prime number\n",
      "137 is a prime number\n",
      "139 is a prime number\n",
      "149 is a prime number\n",
      "151 is a prime number\n",
      "157 is a prime number\n",
      "163 is a prime number\n",
      "167 is a prime number\n",
      "173 is a prime number\n",
      "179 is a prime number\n",
      "181 is a prime number\n",
      "191 is a prime number\n",
      "193 is a prime number\n",
      "197 is a prime number\n",
      "199 is a prime number\n"
     ]
    }
   ],
   "source": [
    "i = 3\n",
    "no = 200\n",
    "\n",
    "while i < no:\n",
    "    is_prime = True\n",
    "    for j in range(2, int(i ** 0.5) + 1):\n",
    "        if i % j == 0:\n",
    "            is_prime = False\n",
    "            break\n",
    "\n",
    "    if is_prime:\n",
    "        print(i, \"is a prime number\")\n",
    "    \n",
    "    i = i + 1\n",
    "\n"
   ]
  }
 ],
 "metadata": {
  "kernelspec": {
   "display_name": "Python 3",
   "language": "python",
   "name": "python3"
  },
  "language_info": {
   "codemirror_mode": {
    "name": "ipython",
    "version": 3
   },
   "file_extension": ".py",
   "mimetype": "text/x-python",
   "name": "python",
   "nbconvert_exporter": "python",
   "pygments_lexer": "ipython3",
   "version": "3.11.11"
  }
 },
 "nbformat": 4,
 "nbformat_minor": 5
}
